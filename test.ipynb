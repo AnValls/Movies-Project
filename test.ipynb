{
 "cells": [
  {
   "cell_type": "code",
   "execution_count": 7,
   "metadata": {},
   "outputs": [
    {
     "name": "stdout",
     "output_type": "stream",
     "text": [
      "c:\\Users\\Ana Valls\\Desktop\\CURSO BIG DATA\\IBM\\Machine Learning with Python\\Proyecto 5\n",
      "Datos de películas:\n",
      "                      Title  Year      Genre              Director\n",
      "0  The Shawshank Redemption  1994      Drama        Frank Darabont\n",
      "1             The Godfather  1972      Crime  Francis Ford Coppola\n",
      "2           The Dark Knight  2008     Action     Christopher Nolan\n",
      "3              12 Angry Men  1957      Drama          Sidney Lumet\n",
      "4          Schindler's List  1993  Biography      Steven Spielberg\n"
     ]
    }
   ],
   "source": [
    "import os\n",
    "import pandas as pd\n",
    "\n",
    "print(os.getcwd())\n",
    "\n",
    "os.chdir(r'C:\\Users\\Ana Valls\\Desktop\\CURSO BIG DATA\\IBM\\Machine Learning with Python\\Proyecto 5')\n",
    "\n",
    "try:\n",
    "    df = pd.read_csv('movies.csv', delimiter=',', on_bad_lines='skip')\n",
    "    print(\"Datos de películas:\")\n",
    "    print(df.head())\n",
    "except pd.errors.ParserError as e:\n",
    "    print(f\"Error al analizar el archivo CSV: {e}\")\n",
    "except Exception as e:\n",
    "    print(f\"Otro error al leer el archivo CSV: {e}\")\n"
   ]
  },
  {
   "cell_type": "code",
   "execution_count": 8,
   "metadata": {},
   "outputs": [
    {
     "name": "stdout",
     "output_type": "stream",
     "text": [
      "Datos de películas con características de género:\n",
      "                      Title  Year              Director  Genre_Action  \\\n",
      "0  The Shawshank Redemption  1994        Frank Darabont         False   \n",
      "1             The Godfather  1972  Francis Ford Coppola         False   \n",
      "2           The Dark Knight  2008     Christopher Nolan          True   \n",
      "3              12 Angry Men  1957          Sidney Lumet         False   \n",
      "4          Schindler's List  1993      Steven Spielberg         False   \n",
      "\n",
      "   Genre_Adventure  Genre_Biography  Genre_Crime  Genre_Drama  \n",
      "0            False            False        False         True  \n",
      "1            False            False         True        False  \n",
      "2            False            False        False        False  \n",
      "3            False            False        False         True  \n",
      "4            False             True        False        False  \n"
     ]
    }
   ],
   "source": [
    "if 'df' in locals() and not df.empty:\n",
    "\n",
    "    df = pd.get_dummies(df, columns=['Genre'])\n",
    "\n",
    "    print(\"Datos de películas con características de género:\")\n",
    "    print(df.head())\n",
    "else:\n",
    "    print(\"El DataFrame no se cargó correctamente. No se puede continuar con el procesamiento.\")\n",
    "\n"
   ]
  },
  {
   "cell_type": "code",
   "execution_count": 9,
   "metadata": {},
   "outputs": [
    {
     "name": "stdout",
     "output_type": "stream",
     "text": [
      "Predicciones de años: [1983.33333333 1994.        ]\n"
     ]
    }
   ],
   "source": [
    "from sklearn.model_selection import train_test_split\n",
    "from sklearn.linear_model import LinearRegression\n",
    "\n",
    "X = df.drop(['Title', 'Year', 'Director'], axis=1)\n",
    "y = df['Year']\n",
    "\n",
    "X_train, X_test, y_train, y_test = train_test_split(X, y, test_size=0.2, random_state=42)\n",
    "\n",
    "model = LinearRegression()\n",
    "model.fit(X_train, y_train)\n",
    "\n",
    "y_pred = model.predict(X_test)\n",
    "\n",
    "print('Predicciones de años:', y_pred)\n"
   ]
  },
  {
   "cell_type": "code",
   "execution_count": 10,
   "metadata": {},
   "outputs": [
    {
     "name": "stdout",
     "output_type": "stream",
     "text": [
      "Datos de películas con clusters:\n",
      "                      Title  Year              Director  Genre_Action  \\\n",
      "0  The Shawshank Redemption  1994        Frank Darabont         False   \n",
      "1             The Godfather  1972  Francis Ford Coppola         False   \n",
      "2           The Dark Knight  2008     Christopher Nolan          True   \n",
      "3              12 Angry Men  1957          Sidney Lumet         False   \n",
      "4          Schindler's List  1993      Steven Spielberg         False   \n",
      "\n",
      "   Genre_Adventure  Genre_Biography  Genre_Crime  Genre_Drama  cluster  \n",
      "0            False            False        False         True        0  \n",
      "1            False            False         True        False        0  \n",
      "2            False            False        False        False        1  \n",
      "3            False            False        False         True        0  \n",
      "4            False             True        False        False        0  \n"
     ]
    }
   ],
   "source": [
    "from sklearn.cluster import KMeans\n",
    "\n",
    "kmeans = KMeans(n_clusters=2, random_state=42)\n",
    "kmeans.fit(X)\n",
    "\n",
    "df['cluster'] = kmeans.labels_\n",
    "\n",
    "print(\"Datos de películas con clusters:\")\n",
    "print(df.head())\n"
   ]
  },
  {
   "cell_type": "code",
   "execution_count": 11,
   "metadata": {},
   "outputs": [
    {
     "name": "stdout",
     "output_type": "stream",
     "text": [
      "Recomendaciones para 'The Godfather':\n",
      "['The Shawshank Redemption', 'The Godfather', '12 Angry Men', \"Schindler's List\", 'Pulp Fiction', 'The Lord of the Rings: The Return of the King', 'Fight Club', 'Forrest Gump']\n"
     ]
    }
   ],
   "source": [
    "def get_recommendations(title, df=df):\n",
    "\n",
    "    cluster = df[df['Title'] == title]['cluster'].values[0]\n",
    "\n",
    "    similar_movies = df[df['cluster'] == cluster]\n",
    "\n",
    "    return similar_movies['Title'].tolist()\n",
    "\n",
    "print(\"Recomendaciones para 'The Godfather':\")\n",
    "print(get_recommendations('The Godfather'))\n"
   ]
  }
 ],
 "metadata": {
  "kernelspec": {
   "display_name": "Python 3",
   "language": "python",
   "name": "python3"
  },
  "language_info": {
   "codemirror_mode": {
    "name": "ipython",
    "version": 3
   },
   "file_extension": ".py",
   "mimetype": "text/x-python",
   "name": "python",
   "nbconvert_exporter": "python",
   "pygments_lexer": "ipython3",
   "version": "3.12.4"
  }
 },
 "nbformat": 4,
 "nbformat_minor": 2
}
